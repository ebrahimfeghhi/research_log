{
 "cells": [
  {
   "attachments": {},
   "cell_type": "markdown",
   "metadata": {},
   "source": [
    "### Summary of current Research Progress\n",
    "\n",
    "\n",
    "**<span style=\"color:#B3E5FC\">Background Description</span>**\n",
    "\n",
    "On the Brain-to-Text '24 Dataset, impressive gains in accuracy were made using the following techniques. \n",
    "\n",
    "1. Using an ensemble of 10 neural networks with different seeds. \n",
    "\n",
    "2. Decoding the outputs of each of these seeds with a 5-gram language model using beam search with a second pass rescoring stage applied.\n",
    "\n",
    "3. Obtaining the top 100 beams from each seed and selecting the best beam with OPT 6.7B resulting in a single, best hypothesis for each seed. \n",
    "\n",
    "4. Fine-tuning a LLM to produce the intended transcription given the best hypothesis from each seed. \n",
    "\n",
    "**<span style=\"color:#B3E5FC\">Areas for Improvement</span>**\n",
    "\n",
    "1. The 5-gram LM + second pass rescoring requires very intensive computational resources, specifically a server with \n",
    "over 300 GB of RAM. Furthermore, it is unclear if latency is an issue with the 5-gram LM. It appears that Card et al., 2025 \n",
    "used a 5-gram LM + Rescoring + OPT 6.7B for online evaluations, so this may not be a critical issue.\n",
    "\n",
    "2. LLM fine-tuning relies on the entire sentence being decoded, and no previous method has applied it in a streaming fashion. \n",
    "\n",
    "3. The acoustic model is crafted based on PER, whereas the metric of interest is WER. Given the complexity and large resource demands of this setup, optimizing for WER in the creation of the acoustic model during training appears challenging (loading the 5-gram LM, latency costs for decoding the entire validation set, the LLM can only be fine-tuned after the acoustic model has finished training). This is not ideal because PER is not a perfect indicator of WER, which may lead to imperfect hyperparameter optimization for the acoustic model.\n",
    "    * The relationship between WER and PER appears to be complex, and modulated by validation CTC loss. Validation CTC loss means that the sum over the probability of valid alignments is high, whereas PER indicates the edit distance between the correct and decoded sequences after CTC greedy decoding rules are applied.\n",
    "    * A data point that would be valuable to have is what the WER is for a consistency regularized CTC model that is trained for 250 epochs. Such a model appears to obtain a lower PER and validation CTC loss relative to the current best model I have.\n",
    "    \n",
    "    \n",
    "\n"
   ]
  },
  {
   "cell_type": "code",
   "execution_count": 29,
   "metadata": {},
   "outputs": [
    {
     "name": "stdout",
     "output_type": "stream",
     "text": [
      "| Model Name                        |    PER |   3-gram WER |   CTC Loss |   N |\n",
      "|:----------------------------------|-------:|-------------:|-----------:|----:|\n",
      "| Transformer 600 epochs + 7 layers | 0.1408 |       0.1769 |     0.8555 |   4 |\n"
     ]
    }
   ],
   "source": [
    "from helper_functions import process_and_display_results\n",
    "\n",
    "process_and_display_results(['research_data/neurips_transformer_time_masked.pkl', 'research_data/transformer_short_training_fixed.pkl'], \n",
    "                            ['Transformer 600 epochs + 7 layers'], ['Transformer 250 Epochs + 5 layers'])"
   ]
  },
  {
   "cell_type": "code",
   "execution_count": 17,
   "metadata": {},
   "outputs": [
    {
     "data": {
      "text/plain": [
       "{'neurips_transformer_time_masked': {'PER': [0.13788122652800133,\n",
       "   0.1451446494160373,\n",
       "   0.13726218480458915,\n",
       "   0.1428335603152986],\n",
       "  'WER': [0.17875977450445535,\n",
       "   0.18112384069830878,\n",
       "   0.1685761047463175,\n",
       "   0.1789416257501364],\n",
       "  'CTC Loss': [0.8373662474711591,\n",
       "   0.8862333237659827,\n",
       "   0.8195294758713131,\n",
       "   0.8788532746131399]}}"
      ]
     },
     "execution_count": 17,
     "metadata": {},
     "output_type": "execute_result"
    }
   ],
   "source": [
    "import pandas as pd\n",
    "pd.read_pickle('research_data/neurips_transformer_time_masked.pkl')"
   ]
  },
  {
   "attachments": {},
   "cell_type": "markdown",
   "metadata": {},
   "source": [
    "print(\")"
   ]
  }
 ],
 "metadata": {
  "kernelspec": {
   "display_name": "Python 3",
   "language": "python",
   "name": "python3"
  },
  "language_info": {
   "codemirror_mode": {
    "name": "ipython",
    "version": 3
   },
   "file_extension": ".py",
   "mimetype": "text/x-python",
   "name": "python",
   "nbconvert_exporter": "python",
   "pygments_lexer": "ipython3",
   "version": "3.10.5"
  },
  "orig_nbformat": 4
 },
 "nbformat": 4,
 "nbformat_minor": 2
}
